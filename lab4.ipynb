{
 "cells": [
  {
   "cell_type": "code",
   "execution_count": 1,
   "id": "initial_id",
   "metadata": {
    "collapsed": true,
    "ExecuteTime": {
     "end_time": "2024-04-15T17:18:22.638903500Z",
     "start_time": "2024-04-15T17:18:22.625909600Z"
    }
   },
   "outputs": [
    {
     "name": "stdout",
     "output_type": "stream",
     "text": [
      "1. Optimal solution (fractional knapsack): 240.0\n",
      "Maximized sum array: [5, 4, 3, 2, 0]\n",
      "Maximized sum: 16\n",
      "3. Minimum sum of product of pairs: 104\n"
     ]
    }
   ],
   "source": [
    "class Item:\n",
    "    def __init__(self, benefit, weight):\n",
    "        self.benefit = benefit\n",
    "        self.weight = weight\n",
    "        self.benefit_to_weight_ratio = benefit / weight\n",
    "\n",
    "    def __lt__(self, other):\n",
    "        return self.benefit_to_weight_ratio < other.benefit_to_weight_ratio\n",
    "\n",
    "def fractional_knapsack(items, capacity):\n",
    "    # Sort items based on benefit-to-weight ratio in descending order\n",
    "    items.sort(reverse=True)\n",
    "    \n",
    "    total_benefit = 0\n",
    "    remaining_capacity = capacity\n",
    "    \n",
    "    for item in items:\n",
    "        if remaining_capacity >= item.weight:\n",
    "            # Take the whole item\n",
    "            total_benefit += item.benefit\n",
    "            remaining_capacity -= item.weight\n",
    "        else:\n",
    "            # Take a fraction of the item\n",
    "            fraction = remaining_capacity / item.weight\n",
    "            total_benefit += fraction * item.benefit\n",
    "            break  # Knapsack is full\n",
    "        \n",
    "    return total_benefit\n",
    "\n",
    "def max_sum_array(arr):\n",
    "    # Enumerate the array to get (value, index) pairs\n",
    "    arr_with_indices = [(val, idx) for idx, val in enumerate(arr)]\n",
    "    \n",
    "    # Sort the array with indices in non-decreasing order of values\n",
    "    arr_with_indices.sort()\n",
    "    \n",
    "    # Rearrange the array to maximize the sum of arr[i] * i\n",
    "    max_sum_arr = [val for val, _ in arr_with_indices[::-1]]\n",
    "    \n",
    "    return max_sum_arr\n",
    "\n",
    "\n",
    "def min_product_sum(array_One, array_Two):\n",
    "    # Sort both arrays\n",
    "    array_One.sort()\n",
    "    array_Two.sort(reverse=True)  # Sort array_Two in descending order\n",
    "    \n",
    "    # Calculate the minimum sum of the product of pairs\n",
    "    min_sum = sum(array_One[i] * array_Two[i] for i in range(len(array_One)))\n",
    "    return min_sum\n",
    "\n",
    "# Example usage for each problem\n",
    "\n",
    "# 1. Fractional Knapsack Problem\n",
    "items = [\n",
    "    Item(benefit=60, weight=10),\n",
    "    Item(benefit=100, weight=20),\n",
    "    Item(benefit=120, weight=30)\n",
    "]\n",
    "capacity = 50\n",
    "optimal_solution = fractional_knapsack(items, capacity)\n",
    "print(\"1. Optimal solution (fractional knapsack):\", optimal_solution)\n",
    "\n",
    "# 2. Maximize sum of arr[i] * i\n",
    "arr = [2, 5, 3, 4, 0]\n",
    "max_sum_arr = max_sum_array(arr)\n",
    "print(\"Maximized sum array:\", max_sum_arr)\n",
    "\n",
    "# Calculate the sum of arr[i] * i for the maximized sum array\n",
    "max_sum_value = sum(val * idx for idx, val in enumerate(max_sum_arr))\n",
    "print(\"Maximized sum:\", max_sum_value)\n",
    "\n",
    "# 3. Minimum sum of product of pairs\n",
    "array_One = [7, 5, 1, 4]\n",
    "array_Two = [6, 17, 9, 3]\n",
    "min_product = min_product_sum(array_One, array_Two)\n",
    "print(\"3. Minimum sum of product of pairs:\", min_product)\n"
   ]
  },
  {
   "cell_type": "code",
   "execution_count": null,
   "outputs": [],
   "source": [],
   "metadata": {
    "collapsed": false
   },
   "id": "9fb37b921a411e7b"
  }
 ],
 "metadata": {
  "kernelspec": {
   "display_name": "Python 3",
   "language": "python",
   "name": "python3"
  },
  "language_info": {
   "codemirror_mode": {
    "name": "ipython",
    "version": 2
   },
   "file_extension": ".py",
   "mimetype": "text/x-python",
   "name": "python",
   "nbconvert_exporter": "python",
   "pygments_lexer": "ipython2",
   "version": "2.7.6"
  }
 },
 "nbformat": 4,
 "nbformat_minor": 5
}
