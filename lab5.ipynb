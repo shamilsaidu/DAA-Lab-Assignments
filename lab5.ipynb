{
 "cells": [
  {
   "cell_type": "code",
   "execution_count": 1,
   "id": "ea54acba",
   "metadata": {},
   "outputs": [
    {
     "name": "stdout",
     "output_type": "stream",
     "text": [
      "3\n",
      "2\n",
      "1\n",
      "1\n",
      "4\n"
     ]
    }
   ],
   "source": [
    "def candies(n, arr):\n",
    "    candies_arr = [1] * n\n",
    "    \n",
    "    for i in range(1, n):\n",
    "        if arr[i] > arr[i-1]:\n",
    "            candies_arr[i] = candies_arr[i-1] + 1\n",
    "    \n",
    "    for i in range(n-2, -1, -1):\n",
    "        if arr[i] > arr[i+1] and candies_arr[i] <= candies_arr[i+1]:\n",
    "            candies_arr[i] = candies_arr[i+1] + 1\n",
    "    \n",
    "    total_candies = sum(candies_arr)\n",
    "    \n",
    "    return total_candies\n",
    "\n",
    "n = int(input().strip())\n",
    "arr = [int(input().strip()) for _ in range(n)]\n",
    "\n",
    "print(candies(n, arr))\n"
   ]
  },
  {
   "cell_type": "code",
   "execution_count": 4,
   "id": "2dfb8e34",
   "metadata": {},
   "outputs": [
    {
     "name": "stdout",
     "output_type": "stream",
     "text": [
      "12\n"
     ]
    }
   ],
   "source": [
    "def maximumPeople(population, town_locations, num_clouds, cloud_locations, cloud_ranges):\n",
    "    n = len(population)\n",
    "    m = len(cloud_locations)\n",
    "    \n",
    "    # Count populations in each town\n",
    "    town_population = {town_locations[i]: population[i] for i in range(n)}\n",
    "    \n",
    "    # Initialize total population in sunny towns\n",
    "    sunny_population = sum(population)\n",
    "    \n",
    "    # Initialize population covered by clouds\n",
    "    covered_population = [0] * n\n",
    "    \n",
    "    # Calculate covered population by each cloud\n",
    "    for i in range(m):\n",
    "        start = max(0, cloud_locations[i] - cloud_ranges[i])\n",
    "        end = min(1000000000, cloud_locations[i] + cloud_ranges[i]) # Setting a large upper limit\n",
    "        for j in range(n):\n",
    "            if start <= town_locations[j] <= end:\n",
    "                covered_population[j] += population[j]\n",
    "                \n",
    "    # Find the maximum reduction in population if one cloud is removed\n",
    "    max_reduction = 0\n",
    "    for i in range(m):\n",
    "        reduction = 0\n",
    "        start = max(0, cloud_locations[i] - cloud_ranges[i])\n",
    "        end = min(1000000000, cloud_locations[i] + cloud_ranges[i])\n",
    "        for j in range(n):\n",
    "            if start <= town_locations[j] <= end:\n",
    "                reduction += covered_population[j]\n",
    "        max_reduction = max(max_reduction, reduction)\n",
    "        \n",
    "    return sunny_population - max_reduction\n",
    "\n",
    "# Example usage:\n",
    "population = [5, 7, 2, 10]\n",
    "town_locations = [1, 3, 5, 8]\n",
    "num_clouds = 2\n",
    "cloud_locations = [2, 7]\n",
    "cloud_ranges = [2, 3]\n",
    "\n",
    "print(maximumPeople(population, town_locations, num_clouds, cloud_locations, cloud_ranges))\n"
   ]
  },
  {
   "cell_type": "code",
   "execution_count": 6,
   "id": "9741bec1",
   "metadata": {},
   "outputs": [
    {
     "name": "stdout",
     "output_type": "stream",
     "text": [
      "6 2\n",
      "0 1 1 1 1 0\n",
      "2\n"
     ]
    }
   ],
   "source": [
    "def pylons(k, arr):\n",
    "    n = len(arr)\n",
    "    num_plants = 0\n",
    "    i = 0\n",
    "\n",
    "    while i < n:\n",
    "        # Find the next city where we can build a plant\n",
    "        plant_loc = -1\n",
    "        for j in range(min(i + k, n - 1), i - 1, -1):\n",
    "            if arr[j] == 1:\n",
    "                plant_loc = j\n",
    "                break\n",
    "\n",
    "        # If no suitable city is found in the range, return -1\n",
    "        if plant_loc == -1:\n",
    "            return -1\n",
    "\n",
    "        # Increment the number of plants\n",
    "        num_plants += 1\n",
    "\n",
    "        # Move to the next city beyond the current plant's coverage\n",
    "        i = plant_loc + k\n",
    "\n",
    "    return num_plants\n",
    "\n",
    "# Example usage:\n",
    "n, k = map(int, input().split())\n",
    "arr = list(map(int, input().split()))\n",
    "\n",
    "result = pylons(k, arr)\n",
    "print(result)\n"
   ]
  },
  {
   "cell_type": "code",
   "execution_count": null,
   "id": "0f3a7ad6",
   "metadata": {},
   "outputs": [],
   "source": []
  }
 ],
 "metadata": {
  "kernelspec": {
   "display_name": "Python 3 (ipykernel)",
   "language": "python",
   "name": "python3"
  },
  "language_info": {
   "codemirror_mode": {
    "name": "ipython",
    "version": 3
   },
   "file_extension": ".py",
   "mimetype": "text/x-python",
   "name": "python",
   "nbconvert_exporter": "python",
   "pygments_lexer": "ipython3",
   "version": "3.11.4"
  }
 },
 "nbformat": 4,
 "nbformat_minor": 5
}
